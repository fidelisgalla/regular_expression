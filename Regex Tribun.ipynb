{
 "cells": [
  {
   "cell_type": "markdown",
   "metadata": {},
   "source": [
    "## Regular Expression for Email and Phone Number"
   ]
  },
  {
   "cell_type": "markdown",
   "metadata": {},
   "source": [
    "This code will eliminate all the html tag in the soup result and take the email and phone number using regular expression (regex). At the end this code will built the dataframe for easy manipulation"
   ]
  },
  {
   "cell_type": "code",
   "execution_count": 43,
   "metadata": {},
   "outputs": [],
   "source": [
    "import requests\n",
    "from bs4 import BeautifulSoup\n",
    "import re"
   ]
  },
  {
   "cell_type": "markdown",
   "metadata": {},
   "source": [
    "URL of the web page"
   ]
  },
  {
   "cell_type": "code",
   "execution_count": 75,
   "metadata": {},
   "outputs": [],
   "source": [
    "url='http://jogja.tribunnews.com/2019/03/10/daftar-nomor-telepon-dan-alamat-email-polsek-se-kabupaten-bantul'\n",
    "r=requests.get(url)"
   ]
  },
  {
   "cell_type": "code",
   "execution_count": 76,
   "metadata": {},
   "outputs": [
    {
     "data": {
      "text/plain": [
       "200"
      ]
     },
     "execution_count": 76,
     "metadata": {},
     "output_type": "execute_result"
    }
   ],
   "source": [
    "r.status_code"
   ]
  },
  {
   "cell_type": "code",
   "execution_count": 77,
   "metadata": {},
   "outputs": [],
   "source": [
    "soup=BeautifulSoup(r.text,'html.parser')"
   ]
  },
  {
   "cell_type": "code",
   "execution_count": 78,
   "metadata": {},
   "outputs": [],
   "source": [
    "data_email=soup.find_all('p')"
   ]
  },
  {
   "cell_type": "code",
   "execution_count": 79,
   "metadata": {},
   "outputs": [
    {
     "data": {
      "text/plain": [
       "[<p><em><strong>Daftar Nomor Telepon dan Alamat Email Polsek se-Kabupaten Bantul</strong></em></p>,\n",
       " <p>TRIBUNJOGJA.COM - Setiap kantor Polsek di Kabupaten Bantul, Daerah Istimewa Yogyakarta, memiliki nomor telepon yang dapat dihubungi ketika memerlukan sesuatu.</p>,\n",
       " <p>Polsek adalah singkatan dari Kepolisian Sektor, merupakan struktur komando Kepolisian Republik Indonesia di tingkat kecamatan.</p>,\n",
       " <p class=\"baca\"><strong>Baca: <a href=\"http://jogja.tribunnews.com/2019/03/10/pesan-tarot-hari-iniedisi-minggu-10-maret-2019\" title=\"Pesan Tarot Hari Ini, Edisi Minggu 10 Maret 2019\">Pesan Tarot Hari Ini, Edisi Minggu 10 Maret 2019</a></strong></p>,\n",
       " <p class=\"baca\"><strong>Baca: <a href=\"http://jogja.tribunnews.com/2019/03/10/smart-city-di-gunungkidul-lolos-penilaian-program-gerakan-menuju-100-smart-city\" title=\"Smart City di Gunungkidul Lolos Penilaian Program Gerakan Menuju 100 Smart City\">Smart City di Gunungkidul Lolos Penilaian Program Gerakan Menuju 100 Smart City</a></strong></p>,\n",
       " <p>Kepolisian sektor di perkotaan biasanya disebut sebagai Kepolisian Sektor Kota atau disingkat Polsekta.</p>,\n",
       " <p>Kabupaten Bantul di Daerah Istimewa Yogyakarta (DIY) yang terdiri dari 17 kecamatan memiliki 17 Polsek.</p>,\n",
       " <p>Berikut adalah daftar nomor telepon dan <a href=\"http://jogja.tribunnews.com/tag/alamat-email\" title=\"alamat email\">alamat email</a> kantor Polsek se-Kabupaten Bantul, seperti dikutip dari laman resmi Polres Bantul.</p>,\n",
       " <p>1.Polsek Sedayu: (0274) 6498549 <br/>ppidsedayubantuldiy@gmail.com</p>,\n",
       " <p>2. Polsek Kasihan: (0274) 445 585<br/>ppidkasihanbantuldiy@gmail.com</p>,\n",
       " <p>3.Polsek Sewon: (0274) 445 585<br/>ppidsewonbantuldiy@gmail.com</p>,\n",
       " <p>4. Polsek Banguntapan: (0274) 414132<br/>ppidbanguntapanbantuldiy@gmail.com</p>]"
      ]
     },
     "execution_count": 79,
     "metadata": {},
     "output_type": "execute_result"
    }
   ],
   "source": [
    "data_email"
   ]
  },
  {
   "cell_type": "markdown",
   "metadata": {},
   "source": [
    "function to get clean text (clean the string from html tags)"
   ]
  },
  {
   "cell_type": "code",
   "execution_count": 86,
   "metadata": {},
   "outputs": [],
   "source": [
    "def cleaning_html(data):\n",
    "    clean_text=re.sub(r'<.*?>','',str(data))\n",
    "    return clean_text"
   ]
  },
  {
   "cell_type": "code",
   "execution_count": 88,
   "metadata": {},
   "outputs": [],
   "source": [
    "text=cleaning_html(data_email)"
   ]
  },
  {
   "cell_type": "code",
   "execution_count": 105,
   "metadata": {},
   "outputs": [],
   "source": [
    "test1=re.sub(r'<.*?>','',str(data_email))"
   ]
  },
  {
   "cell_type": "code",
   "execution_count": 122,
   "metadata": {},
   "outputs": [
    {
     "data": {
      "text/plain": [
       "'[Daftar Nomor Telepon dan Alamat Email Polsek se-Kabupaten Bantul, TRIBUNJOGJA.COM - Setiap kantor Polsek di Kabupaten Bantul, Daerah Istimewa Yogyakarta, memiliki nomor telepon yang dapat dihubungi ketika memerlukan sesuatu., Polsek adalah singkatan dari Kepolisian Sektor, merupakan struktur komando Kepolisian Republik Indonesia di tingkat kecamatan., Baca: Pesan Tarot Hari Ini,\\xa0Edisi Minggu 10 Maret 2019, Baca: Smart City di Gunungkidul Lolos Penilaian Program Gerakan Menuju 100 Smart City, Kepolisian sektor di perkotaan biasanya disebut sebagai Kepolisian Sektor Kota atau disingkat Polsekta., Kabupaten Bantul di Daerah Istimewa Yogyakarta (DIY) yang terdiri dari 17 kecamatan memiliki 17 Polsek., Berikut adalah daftar nomor telepon dan alamat\\xa0email kantor Polsek se-Kabupaten Bantul, seperti dikutip dari laman resmi Polres Bantul., 1.Polsek Sedayu: (0274) 6498549 ppidsedayubantuldiy@gmail.com, 2. Polsek Kasihan: (0274) 445 585ppidkasihanbantuldiy@gmail.com, 3.Polsek Sewon: (0274) 445 585ppidsewonbantuldiy@gmail.com, 4. Polsek Banguntapan: (0274) 414132ppidbanguntapanbantuldiy@gmail.com]'"
      ]
     },
     "execution_count": 122,
     "metadata": {},
     "output_type": "execute_result"
    }
   ],
   "source": [
    "text"
   ]
  },
  {
   "cell_type": "markdown",
   "metadata": {},
   "source": [
    "Function to get the email"
   ]
  },
  {
   "cell_type": "code",
   "execution_count": 175,
   "metadata": {},
   "outputs": [],
   "source": [
    "def get_email(data):\n",
    "    myregex=re.compile(r'[A-Z0-9-+._%]+@[A-Z0-9._%+-]+\\.[a-z]{2,4}',re.I)\n",
    "    email=myregex.findall(data)\n",
    "    return email\n"
   ]
  },
  {
   "cell_type": "code",
   "execution_count": 176,
   "metadata": {},
   "outputs": [],
   "source": [
    "email=get_email(text)"
   ]
  },
  {
   "cell_type": "markdown",
   "metadata": {},
   "source": [
    "Function to get the phone number"
   ]
  },
  {
   "cell_type": "code",
   "execution_count": 177,
   "metadata": {},
   "outputs": [],
   "source": [
    "def get_phone_number(data):\n",
    "    myregex=re.compile(r'\\(\\d{4}\\)\\s*\\d{3}\\s*[0-9]{3,5}')\n",
    "    phone_num=myregex.findall(text)\n",
    "    return phone_num"
   ]
  },
  {
   "cell_type": "code",
   "execution_count": 178,
   "metadata": {},
   "outputs": [],
   "source": [
    "phone_number=get_phone_number(text)"
   ]
  },
  {
   "cell_type": "code",
   "execution_count": 206,
   "metadata": {},
   "outputs": [],
   "source": [
    "def get_office_detail(data):\n",
    "    myregex=re.compile(r'Polsek\\s[A-Z]\\w+')\n",
    "    office=myregex.findall(text)\n",
    "    return office"
   ]
  },
  {
   "cell_type": "code",
   "execution_count": 213,
   "metadata": {},
   "outputs": [],
   "source": [
    "office=get_office_detail(text)"
   ]
  },
  {
   "cell_type": "code",
   "execution_count": 217,
   "metadata": {},
   "outputs": [],
   "source": [
    "import pandas as pd"
   ]
  },
  {
   "cell_type": "markdown",
   "metadata": {},
   "source": [
    "Creating the dataframe from all parameters acquired above"
   ]
  },
  {
   "cell_type": "code",
   "execution_count": 222,
   "metadata": {},
   "outputs": [],
   "source": [
    "df=pd.DataFrame({'police office':office,'nomor telepon':phone_number,'alamat email':email})"
   ]
  },
  {
   "cell_type": "code",
   "execution_count": 223,
   "metadata": {},
   "outputs": [
    {
     "data": {
      "text/html": [
       "<div>\n",
       "<style scoped>\n",
       "    .dataframe tbody tr th:only-of-type {\n",
       "        vertical-align: middle;\n",
       "    }\n",
       "\n",
       "    .dataframe tbody tr th {\n",
       "        vertical-align: top;\n",
       "    }\n",
       "\n",
       "    .dataframe thead th {\n",
       "        text-align: right;\n",
       "    }\n",
       "</style>\n",
       "<table border=\"1\" class=\"dataframe\">\n",
       "  <thead>\n",
       "    <tr style=\"text-align: right;\">\n",
       "      <th></th>\n",
       "      <th>police office</th>\n",
       "      <th>nomor telepon</th>\n",
       "      <th>alamat email</th>\n",
       "    </tr>\n",
       "  </thead>\n",
       "  <tbody>\n",
       "    <tr>\n",
       "      <th>0</th>\n",
       "      <td>Polsek Sedayu</td>\n",
       "      <td>(0274) 6498549</td>\n",
       "      <td>ppidsedayubantuldiy@gmail.com</td>\n",
       "    </tr>\n",
       "    <tr>\n",
       "      <th>1</th>\n",
       "      <td>Polsek Kasihan</td>\n",
       "      <td>(0274) 445 585</td>\n",
       "      <td>585ppidkasihanbantuldiy@gmail.com</td>\n",
       "    </tr>\n",
       "    <tr>\n",
       "      <th>2</th>\n",
       "      <td>Polsek Sewon</td>\n",
       "      <td>(0274) 445 585</td>\n",
       "      <td>585ppidsewonbantuldiy@gmail.com</td>\n",
       "    </tr>\n",
       "    <tr>\n",
       "      <th>3</th>\n",
       "      <td>Polsek Banguntapan</td>\n",
       "      <td>(0274) 414132</td>\n",
       "      <td>414132ppidbanguntapanbantuldiy@gmail.com</td>\n",
       "    </tr>\n",
       "  </tbody>\n",
       "</table>\n",
       "</div>"
      ],
      "text/plain": [
       "        police office   nomor telepon  \\\n",
       "0       Polsek Sedayu  (0274) 6498549   \n",
       "1      Polsek Kasihan  (0274) 445 585   \n",
       "2        Polsek Sewon  (0274) 445 585   \n",
       "3  Polsek Banguntapan   (0274) 414132   \n",
       "\n",
       "                               alamat email  \n",
       "0             ppidsedayubantuldiy@gmail.com  \n",
       "1         585ppidkasihanbantuldiy@gmail.com  \n",
       "2           585ppidsewonbantuldiy@gmail.com  \n",
       "3  414132ppidbanguntapanbantuldiy@gmail.com  "
      ]
     },
     "execution_count": 223,
     "metadata": {},
     "output_type": "execute_result"
    }
   ],
   "source": [
    "df"
   ]
  },
  {
   "cell_type": "code",
   "execution_count": null,
   "metadata": {},
   "outputs": [],
   "source": []
  }
 ],
 "metadata": {
  "kernelspec": {
   "display_name": "Python 3",
   "language": "python",
   "name": "python3"
  },
  "language_info": {
   "codemirror_mode": {
    "name": "ipython",
    "version": 3
   },
   "file_extension": ".py",
   "mimetype": "text/x-python",
   "name": "python",
   "nbconvert_exporter": "python",
   "pygments_lexer": "ipython3",
   "version": "3.7.1"
  }
 },
 "nbformat": 4,
 "nbformat_minor": 2
}
